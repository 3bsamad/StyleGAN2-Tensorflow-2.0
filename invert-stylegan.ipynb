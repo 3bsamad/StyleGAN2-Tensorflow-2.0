{
 "cells": [
  {
   "cell_type": "code",
   "execution_count": 1,
   "metadata": {},
   "outputs": [],
   "source": [
    "import matplotlib.pyplot as plt\n",
    "import numpy as np\n",
    "import glob\n",
    "from PIL import Image\n",
    "import tensorflow as tf\n",
    "\n",
    "import stylegan_two\n",
    "from stylegan_two import StyleGAN"
   ]
  },
  {
   "cell_type": "code",
   "execution_count": 2,
   "metadata": {},
   "outputs": [],
   "source": [
    "stylegan_two.im_size = 128\n",
    "stylegan_two.directory = \"frames/\"\n",
    "\n",
    "class OptimisationEncoder:\n",
    "    def __init__(self, model, batch_size=16) :\n",
    "        self.model = model\n",
    "        self.batch_size = batch_size\n",
    "        self.steps = [(0.1, 200),(0.05, 100),(0.01, 100),(0.005,100)]\n",
    "        self.loss_hist = []\n",
    "        self.batch_size = batch_size\n",
    "        self.n1 = stylegan_two.noiseList(1)\n",
    "    \n",
    "    def _opt_step(self, x1,x2, trunc,target,lr):\n",
    "        with tf.GradientTape(persistent=True) as g:\n",
    "            result = self.model.GAN.GMA(stylegan_two.n_layers*[x1] + [x2,trunc])\n",
    "            loss = tf.reduce_sum(tf.abs(result-target))\n",
    "        dx2 = g.gradient(loss, x2)\n",
    "        #x1.assign(x1 - lr * dx1)\n",
    "        x2.assign(x2 - lr * dx2)\n",
    "        return loss\n",
    "    \n",
    "    def _encode_batch(self, paths) :\n",
    "        n = len(paths)\n",
    "        n1 = np.repeat(self.n1[0], n, axis=0)\n",
    "        x1 = tf.Variable(n1)\n",
    "        n2 = np.random.uniform(0.0, 1.0, size = [n, stylegan_two.im_size, stylegan_two.im_size, 1]).astype('float32')\n",
    "        x2 = tf.Variable(n2)\n",
    "        trunc = tf.ones([1, 1]) * 1.0\n",
    "        target = []\n",
    "        for path in paths :\n",
    "            im = Image.open(path)\n",
    "            im = im.resize((stylegan_two.im_size, stylegan_two.im_size))\n",
    "            target.append(im)\n",
    "        target = tf.constant(np.array(im).astype(np.float32)/255)    \n",
    "        \n",
    "        hist = []\n",
    "        for lr,nb in self.steps :\n",
    "            for i in range(nb) :\n",
    "                l = self._opt_step(x1,x2,trunc,target,lr)\n",
    "                hist.append(l.numpy())\n",
    "        self.loss_hist.append(hist)\n",
    "        \n",
    "        return x2.numpy()\n",
    "    \n",
    "    def encode_images(self, paths) :\n",
    "        i = 0\n",
    "        res = []\n",
    "        while i < len(paths) :\n",
    "            next_i = min(len(paths), i+self.batch_size)\n",
    "            res.append(self._encode_batch(paths[i:next_i]))\n",
    "            i = next_i\n",
    "            print(next_i/len(paths))\n",
    "        return np.concatenate(res)\n",
    "    \n",
    "    def transform(self, lattents) :\n",
    "        images = []\n",
    "        trunc = np.ones([1, 1]) * 1.0\n",
    "        for lattent in lattents :\n",
    "            n2 = tf.expand_dims(lattent, 0)\n",
    "            images.append(self.model.GAN.GMA(self.n1 + [n2])[0].numpy())\n",
    "        return images"
   ]
  },
  {
   "cell_type": "code",
   "execution_count": null,
   "metadata": {},
   "outputs": [],
   "source": [
    "model = StyleGAN(lr = 0.0001, silent = False)\n",
    "model.load(10)"
   ]
  },
  {
   "cell_type": "code",
   "execution_count": null,
   "metadata": {},
   "outputs": [],
   "source": [
    "paths = glob.glob('frames/*.jpg')\n",
    "encoder = OptimisationEncoder(model)"
   ]
  },
  {
   "cell_type": "code",
   "execution_count": null,
   "metadata": {
    "scrolled": true
   },
   "outputs": [],
   "source": [
    "res = encoder.encode_images(paths)"
   ]
  },
  {
   "cell_type": "code",
   "execution_count": null,
   "metadata": {},
   "outputs": [],
   "source": [
    "images = encoder.transform(res)"
   ]
  },
  {
   "cell_type": "code",
   "execution_count": null,
   "metadata": {},
   "outputs": [],
   "source": [
    "plt.plot(encoder.loss_hist[0])"
   ]
  },
  {
   "cell_type": "code",
   "execution_count": null,
   "metadata": {},
   "outputs": [],
   "source": [
    "plt.imshow(images[1])"
   ]
  },
  {
   "cell_type": "code",
   "execution_count": null,
   "metadata": {},
   "outputs": [],
   "source": [
    "save_paths = [s.replace(\"frames\", \"decoded_frames\") for s in paths]"
   ]
  },
  {
   "cell_type": "code",
   "execution_count": null,
   "metadata": {},
   "outputs": [],
   "source": [
    "for path, image in zip (save_paths, images) :\n",
    "    im = Image.fromarray((np.clip(images[0], 0, 1)*255).astype(np.uint8))\n",
    "    im.save(path)"
   ]
  },
  {
   "cell_type": "code",
   "execution_count": null,
   "metadata": {},
   "outputs": [],
   "source": []
  }
 ],
 "metadata": {
  "kernelspec": {
   "display_name": "Python 3",
   "language": "python",
   "name": "python3"
  },
  "language_info": {
   "codemirror_mode": {
    "name": "ipython",
    "version": 3
   },
   "file_extension": ".py",
   "mimetype": "text/x-python",
   "name": "python",
   "nbconvert_exporter": "python",
   "pygments_lexer": "ipython3",
   "version": "3.7.5"
  }
 },
 "nbformat": 4,
 "nbformat_minor": 2
}
